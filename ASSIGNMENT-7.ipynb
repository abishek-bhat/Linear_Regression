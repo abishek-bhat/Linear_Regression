{
 "cells": [
  {
   "cell_type": "code",
   "execution_count": 250,
   "id": "4c075f08",
   "metadata": {},
   "outputs": [],
   "source": [
    "import pandas as pd\n",
    "import numpy as np\n",
    "import seaborn as sns\n",
    "import matplotlib.pyplot as plt\n",
    "from scipy import stats\n",
    "import statsmodels.api as  sm"
   ]
  },
  {
   "cell_type": "code",
   "execution_count": 251,
   "id": "1a8dab7b",
   "metadata": {},
   "outputs": [],
   "source": [
    "data=pd.read_csv(\"C:/Users/admin/Documents/Fish.csv\")"
   ]
  },
  {
   "cell_type": "code",
   "execution_count": 252,
   "id": "3de3fb45",
   "metadata": {},
   "outputs": [
    {
     "data": {
      "text/plain": [
       "Index(['Species', 'Weight', 'Length1', 'Length2', 'Length3', 'Height',\n",
       "       'Width'],\n",
       "      dtype='object')"
      ]
     },
     "execution_count": 252,
     "metadata": {},
     "output_type": "execute_result"
    }
   ],
   "source": [
    "data.columns"
   ]
  },
  {
   "cell_type": "code",
   "execution_count": 253,
   "id": "bfbd39eb",
   "metadata": {},
   "outputs": [
    {
     "data": {
      "text/plain": [
       "count     159.000000\n",
       "mean      398.326415\n",
       "std       357.978317\n",
       "min         0.000000\n",
       "25%       120.000000\n",
       "50%       273.000000\n",
       "75%       650.000000\n",
       "max      1650.000000\n",
       "Name: Weight, dtype: float64"
      ]
     },
     "execution_count": 253,
     "metadata": {},
     "output_type": "execute_result"
    }
   ],
   "source": [
    "data.Weight.describe()"
   ]
  },
  {
   "cell_type": "code",
   "execution_count": 254,
   "id": "95d86ab4",
   "metadata": {},
   "outputs": [
    {
     "data": {
      "text/plain": [
       "0"
      ]
     },
     "execution_count": 254,
     "metadata": {},
     "output_type": "execute_result"
    }
   ],
   "source": [
    "data.Weight.isnull().sum()"
   ]
  },
  {
   "cell_type": "code",
   "execution_count": 255,
   "id": "275b3feb",
   "metadata": {},
   "outputs": [
    {
     "data": {
      "text/plain": [
       "array([ 242. ,  290. ,  340. ,  363. ,  430. ,  450. ,  500. ,  390. ,\n",
       "        475. ,  600. ,  700. ,  610. ,  650. ,  575. ,  685. ,  620. ,\n",
       "        680. ,  725. ,  720. ,  714. ,  850. , 1000. ,  920. ,  955. ,\n",
       "        925. ,  975. ,  950. ,   40. ,   69. ,   78. ,   87. ,  120. ,\n",
       "          0. ,  110. ,  150. ,  145. ,  160. ,  140. ,  169. ,  161. ,\n",
       "        200. ,  180. ,  272. ,  270. ,  306. ,  540. ,  800. ,   55. ,\n",
       "         60. ,   90. ,  170. ,  273. ,  300. ,    5.9,   32. ,   51.5,\n",
       "         70. ,  100. ,   80. ,   85. ,  115. ,  125. ,  130. ,  135. ,\n",
       "        225. ,  188. ,  197. ,  218. ,  260. ,  265. ,  250. ,  320. ,\n",
       "        514. ,  556. ,  840. ,  690. ,  900. ,  820. , 1015. , 1100. ,\n",
       "        345. ,  456. ,  510. ,  567. ,  770. , 1250. , 1600. , 1550. ,\n",
       "       1650. ,    6.7,    7.5,    7. ,    9.7,    9.8,    8.7,   10. ,\n",
       "          9.9,   12.2,   13.4,   19.7,   19.9])"
      ]
     },
     "execution_count": 255,
     "metadata": {},
     "output_type": "execute_result"
    }
   ],
   "source": [
    "data.Weight.unique()"
   ]
  },
  {
   "cell_type": "code",
   "execution_count": 256,
   "id": "426d82eb",
   "metadata": {},
   "outputs": [
    {
     "data": {
      "text/plain": [
       "{'whiskers': [<matplotlib.lines.Line2D at 0x2bb698041f0>,\n",
       "  <matplotlib.lines.Line2D at 0x2bb69804430>],\n",
       " 'caps': [<matplotlib.lines.Line2D at 0x2bb698047f0>,\n",
       "  <matplotlib.lines.Line2D at 0x2bb69804b80>],\n",
       " 'boxes': [<matplotlib.lines.Line2D at 0x2bb697f5e20>],\n",
       " 'medians': [<matplotlib.lines.Line2D at 0x2bb69804f10>],\n",
       " 'fliers': [<matplotlib.lines.Line2D at 0x2bb698102e0>],\n",
       " 'means': []}"
      ]
     },
     "execution_count": 256,
     "metadata": {},
     "output_type": "execute_result"
    },
    {
     "data": {
      "image/png": "[encoded data removed]",
      "text/plain": [
       "<Figure size 432x288 with 1 Axes>"
      ]
     },
     "metadata": {
      "needs_background": "light"
     },
     "output_type": "display_data"
    }
   ],
   "source": [
    "plt.boxplot(data.Weight)"
   ]
  },
  {
   "cell_type": "code",
   "execution_count": 257,
   "id": "54dd914b",
   "metadata": {},
   "outputs": [
    {
     "data": {
      "text/plain": [
       "(array([59., 31., 12., 18., 16., 11.,  8.,  1.,  0.,  3.]),\n",
       " array([   0.,  165.,  330.,  495.,  660.,  825.,  990., 1155., 1320.,\n",
       "        1485., 1650.]),\n",
       " <BarContainer object of 10 artists>)"
      ]
     },
     "execution_count": 257,
     "metadata": {},
     "output_type": "execute_result"
    },
    {
     "data": {
      "image/png": "[encoded data removed]",
      "text/plain": [
       "<Figure size 432x288 with 1 Axes>"
      ]
     },
     "metadata": {
      "needs_background": "light"
     },
     "output_type": "display_data"
    }
   ],
   "source": [
    "plt.hist(data.Weight)"
   ]
  },
  {
   "cell_type": "code",
   "execution_count": 258,
   "id": "c9f1f6e1",
   "metadata": {},
   "outputs": [
    {
     "data": {
      "text/plain": [
       "ShapiroResult(statistic=0.8834666609764099, pvalue=7.605901464202702e-10)"
      ]
     },
     "execution_count": 258,
     "metadata": {},
     "output_type": "execute_result"
    }
   ],
   "source": [
    "stats.shapiro(data.Weight)"
   ]
  },
  {
   "cell_type": "code",
   "execution_count": 259,
   "id": "3aecdc5c",
   "metadata": {},
   "outputs": [
    {
     "data": {
      "text/plain": [
       "count    159.000000\n",
       "mean       8.970994\n",
       "std        4.286208\n",
       "min        1.728400\n",
       "25%        5.944800\n",
       "50%        7.786000\n",
       "75%       12.365900\n",
       "max       18.957000\n",
       "Name: Height, dtype: float64"
      ]
     },
     "execution_count": 259,
     "metadata": {},
     "output_type": "execute_result"
    }
   ],
   "source": [
    "data.Height.describe()"
   ]
  },
  {
   "cell_type": "code",
   "execution_count": 260,
   "id": "4b30530b",
   "metadata": {},
   "outputs": [
    {
     "data": {
      "text/plain": [
       "0"
      ]
     },
     "execution_count": 260,
     "metadata": {},
     "output_type": "execute_result"
    }
   ],
   "source": [
    "data.Height.isnull().sum()"
   ]
  },
  {
   "cell_type": "code",
   "execution_count": 261,
   "id": "9f9cef7b",
   "metadata": {},
   "outputs": [
    {
     "data": {
      "text/plain": [
       "array([11.52  , 12.48  , 12.3778, 12.73  , 12.444 , 13.6024, 14.1795,\n",
       "       12.67  , 14.0049, 14.2266, 14.2628, 14.3714, 13.7592, 13.9129,\n",
       "       14.9544, 15.438 , 14.8604, 14.938 , 15.633 , 14.4738, 15.1285,\n",
       "       15.9936, 15.5227, 15.4686, 16.2405, 16.36  , 16.3618, 16.517 ,\n",
       "       16.8896, 18.957 , 18.0369, 18.084 , 18.7542, 18.6354, 17.6235,\n",
       "        4.1472,  5.2983,  5.5756,  5.6166,  6.216 ,  6.4752,  6.1677,\n",
       "        6.1146,  5.8045,  6.6339,  7.0334,  6.55  ,  6.4   ,  7.5344,\n",
       "        6.9153,  7.3968,  7.0866,  8.8768,  8.568 ,  9.485 ,  8.3804,\n",
       "        8.1454,  8.778 , 10.744 , 11.7612, 12.354 ,  6.8475,  6.5772,\n",
       "        7.4052,  8.3922,  8.8928,  8.5376,  9.396 ,  9.7364, 10.3458,\n",
       "       11.088 , 11.368 ,  2.112 ,  3.528 ,  3.824 ,  4.5924,  4.588 ,\n",
       "        5.2224,  5.1992,  5.6358,  5.1376,  5.082 ,  5.6925,  5.9175,\n",
       "        6.384 ,  6.11  ,  5.64  ,  5.875 ,  5.5225,  5.856 ,  6.792 ,\n",
       "        5.9532,  5.2185,  6.275 ,  7.293 ,  6.375 ,  6.7334,  6.4395,\n",
       "        6.561 ,  7.168 ,  8.323 ,  7.1672,  7.0516,  7.2828,  7.8204,\n",
       "        7.5852,  7.6156, 10.03  , 10.2565, 11.4884, 10.881 , 10.6091,\n",
       "       10.835 , 10.5717, 11.1366, 12.4313, 11.9286, 11.73  , 12.3808,\n",
       "       11.135 , 12.8002, 11.9328, 12.5125, 12.604 , 12.4888,  5.568 ,\n",
       "        5.7078,  5.9364,  6.2884,  7.29  ,  6.396 ,  7.28  ,  6.825 ,\n",
       "        7.786 ,  6.96  ,  7.792 ,  7.68  ,  8.9262, 10.6863,  9.6   ,\n",
       "       10.812 ,  1.7388,  1.972 ,  1.7284,  2.196 ,  2.0832,  1.9782,\n",
       "        2.2139,  2.2044,  2.0904,  2.43  ,  2.277 ,  2.8728,  2.9322])"
      ]
     },
     "execution_count": 261,
     "metadata": {},
     "output_type": "execute_result"
    }
   ],
   "source": [
    "data.Height.unique()"
   ]
  },
  {
   "cell_type": "code",
   "execution_count": 262,
   "id": "b1ffc49e",
   "metadata": {},
   "outputs": [
    {
     "data": {
      "text/plain": [
       "{'whiskers': [<matplotlib.lines.Line2D at 0x2bb698f43a0>,\n",
       "  <matplotlib.lines.Line2D at 0x2bb698f4730>],\n",
       " 'caps': [<matplotlib.lines.Line2D at 0x2bb698f4ac0>,\n",
       "  <matplotlib.lines.Line2D at 0x2bb698f4e50>],\n",
       " 'boxes': [<matplotlib.lines.Line2D at 0x2bb698e3fa0>],\n",
       " 'medians': [<matplotlib.lines.Line2D at 0x2bb698fe220>],\n",
       " 'fliers': [<matplotlib.lines.Line2D at 0x2bb698fe5b0>],\n",
       " 'means': []}"
      ]
     },
     "execution_count": 262,
     "metadata": {},
     "output_type": "execute_result"
    },
    {
     "data": {
      "image/png": "[encoded data removed]",
      "text/plain": [
       "<Figure size 432x288 with 1 Axes>"
      ]
     },
     "metadata": {
      "needs_background": "light"
     },
     "output_type": "display_data"
    }
   ],
   "source": [
    "plt.boxplot(data.Height)"
   ]
  },
  {
   "cell_type": "code",
   "execution_count": 263,
   "id": "dc97e8f3",
   "metadata": {},
   "outputs": [
    {
     "data": {
      "text/plain": [
       "(array([15.,  7., 40., 26., 11., 19., 14., 13.,  8.,  6.]),\n",
       " array([ 1.7284 ,  3.45126,  5.17412,  6.89698,  8.61984, 10.3427 ,\n",
       "        12.06556, 13.78842, 15.51128, 17.23414, 18.957  ]),\n",
       " <BarContainer object of 10 artists>)"
      ]
     },
     "execution_count": 263,
     "metadata": {},
     "output_type": "execute_result"
    },
    {
     "data": {
      "image/png": "[encoded data removed]",
      "text/plain": [
       "<Figure size 432x288 with 1 Axes>"
      ]
     },
     "metadata": {
      "needs_background": "light"
     },
     "output_type": "display_data"
    }
   ],
   "source": [
    "plt.hist(data.Height)"
   ]
  },
  {
   "cell_type": "code",
   "execution_count": 264,
   "id": "1a78156d",
   "metadata": {},
   "outputs": [
    {
     "data": {
      "text/plain": [
       "ShapiroResult(statistic=0.9608746767044067, pvalue=0.0001852199638960883)"
      ]
     },
     "execution_count": 264,
     "metadata": {},
     "output_type": "execute_result"
    }
   ],
   "source": [
    "stats.shapiro(data.Height)"
   ]
  },
  {
   "cell_type": "markdown",
   "id": "14444bdb",
   "metadata": {},
   "source": [
    "<H6>\n",
    "hypothesis testing-----------------------------------------\n",
    "    x=Species---------------------\n",
    "    y=Height-------------------------\n",
    "    H0=species does not affect height-------------------------------------\n",
    "    H1=species affect height--------------------------------\n",
    "    \n",
    "<H6>"
   ]
  },
  {
   "cell_type": "code",
   "execution_count": 265,
   "id": "f3c1c70b",
   "metadata": {},
   "outputs": [
    {
     "data": {
      "text/plain": [
       "(0.7243453291993318, 3.8423418389517936e-27)"
      ]
     },
     "execution_count": 265,
     "metadata": {},
     "output_type": "execute_result"
    }
   ],
   "source": [
    "stats.pearsonr(data.Height,data.Weight)"
   ]
  },
  {
   "cell_type": "markdown",
   "id": "ed8730c8",
   "metadata": {},
   "source": [
    "<H6>\n",
    "p value is less than alpha,Ho is rejected therfore species affect the height\n",
    "<H6>"
   ]
  },
  {
   "cell_type": "code",
   "execution_count": 266,
   "id": "0826cbb1",
   "metadata": {},
   "outputs": [
    {
     "data": {
      "text/plain": [
       "(159, 7)"
      ]
     },
     "execution_count": 266,
     "metadata": {},
     "output_type": "execute_result"
    }
   ],
   "source": [
    "data.shape"
   ]
  },
  {
   "cell_type": "code",
   "execution_count": 267,
   "id": "a36fe7e3",
   "metadata": {},
   "outputs": [],
   "source": [
    "data.drop(['Species','Length1','Length2','Length3','Width'],axis=1,inplace=True)"
   ]
  },
  {
   "cell_type": "code",
   "execution_count": 268,
   "id": "83ab8227",
   "metadata": {},
   "outputs": [
    {
     "name": "stdout",
     "output_type": "stream",
     "text": [
      "0      11.5200\n",
      "1      12.4800\n",
      "2      12.3778\n",
      "3      12.7300\n",
      "4      12.4440\n",
      "        ...   \n",
      "154     2.0904\n",
      "155     2.4300\n",
      "156     2.2770\n",
      "157     2.8728\n",
      "158     2.9322\n",
      "Name: Height, Length: 159, dtype: float64\n"
     ]
    }
   ],
   "source": [
    "x=data.Height\n",
    "print(x)"
   ]
  },
  {
   "cell_type": "code",
   "execution_count": 269,
   "id": "3170469a",
   "metadata": {},
   "outputs": [
    {
     "name": "stdout",
     "output_type": "stream",
     "text": [
      "0      242.0\n",
      "1      290.0\n",
      "2      340.0\n",
      "3      363.0\n",
      "4      430.0\n",
      "       ...  \n",
      "154     12.2\n",
      "155     13.4\n",
      "156     12.2\n",
      "157     19.7\n",
      "158     19.9\n",
      "Name: Weight, Length: 159, dtype: float64\n"
     ]
    }
   ],
   "source": [
    "y=data.Weight\n",
    "print(y)"
   ]
  },
  {
   "cell_type": "code",
   "execution_count": 270,
   "id": "e89c0ec8",
   "metadata": {},
   "outputs": [],
   "source": [
    "train_x=x[0:128]\n"
   ]
  },
  {
   "cell_type": "code",
   "execution_count": 271,
   "id": "d366292d",
   "metadata": {},
   "outputs": [],
   "source": [
    "test_x=x[128:]\n"
   ]
  },
  {
   "cell_type": "code",
   "execution_count": 272,
   "id": "cff9e73a",
   "metadata": {},
   "outputs": [],
   "source": [
    "x1=test_x\n",
    "x2=test_x"
   ]
  },
  {
   "cell_type": "code",
   "execution_count": 273,
   "id": "c40ac190",
   "metadata": {},
   "outputs": [],
   "source": [
    "train_y=y[0:128]\n"
   ]
  },
  {
   "cell_type": "code",
   "execution_count": 274,
   "id": "0c4871a1",
   "metadata": {},
   "outputs": [],
   "source": [
    "test_y=y[128:]"
   ]
  },
  {
   "cell_type": "code",
   "execution_count": 275,
   "id": "96108046",
   "metadata": {},
   "outputs": [
    {
     "data": {
      "text/plain": [
       "(31,)"
      ]
     },
     "execution_count": 275,
     "metadata": {},
     "output_type": "execute_result"
    }
   ],
   "source": [
    "test_x.shape"
   ]
  },
  {
   "cell_type": "code",
   "execution_count": 276,
   "id": "87871c78",
   "metadata": {},
   "outputs": [
    {
     "data": {
      "text/plain": [
       "(31,)"
      ]
     },
     "execution_count": 276,
     "metadata": {},
     "output_type": "execute_result"
    }
   ],
   "source": [
    "test_y.shape"
   ]
  },
  {
   "cell_type": "code",
   "execution_count": 281,
   "id": "d4e048a1",
   "metadata": {},
   "outputs": [
    {
     "name": "stderr",
     "output_type": "stream",
     "text": [
      "C:\\ProgramData\\Anaconda3\\lib\\site-packages\\statsmodels\\tsa\\tsatools.py:142: FutureWarning: In a future version of pandas all arguments of concat except for the argument 'objs' will be keyword-only\n",
      "  x = pd.concat(x[::order], 1)\n"
     ]
    }
   ],
   "source": [
    "train_x=sm.add_constant(train_x)\n",
    "test_x=sm.add_constant(test_x)"
   ]
  },
  {
   "cell_type": "code",
   "execution_count": 282,
   "id": "2367482e",
   "metadata": {},
   "outputs": [],
   "source": [
    "model=sm.OLS(train_y,train_x).fit() "
   ]
  },
  {
   "cell_type": "code",
   "execution_count": 283,
   "id": "6a450469",
   "metadata": {},
   "outputs": [
    {
     "data": {
      "text/html": [
       "<table class=\"simpletable\">\n",
       "<caption>OLS Regression Results</caption>\n",
       "<tr>\n",
       "  <th>Dep. Variable:</th>         <td>Weight</td>      <th>  R-squared:         </th> <td>   0.684</td>\n",
       "</tr>\n",
       "<tr>\n",
       "  <th>Model:</th>                   <td>OLS</td>       <th>  Adj. R-squared:    </th> <td>   0.681</td>\n",
       "</tr>\n",
       "<tr>\n",
       "  <th>Method:</th>             <td>Least Squares</td>  <th>  F-statistic:       </th> <td>   272.7</td>\n",
       "</tr>\n",
       "<tr>\n",
       "  <th>Date:</th>             <td>Sat, 02 Apr 2022</td> <th>  Prob (F-statistic):</th> <td>2.61e-33</td>\n",
       "</tr>\n",
       "<tr>\n",
       "  <th>Time:</th>                 <td>13:35:17</td>     <th>  Log-Likelihood:    </th> <td> -843.20</td>\n",
       "</tr>\n",
       "<tr>\n",
       "  <th>No. Observations:</th>      <td>   128</td>      <th>  AIC:               </th> <td>   1690.</td>\n",
       "</tr>\n",
       "<tr>\n",
       "  <th>Df Residuals:</th>          <td>   126</td>      <th>  BIC:               </th> <td>   1696.</td>\n",
       "</tr>\n",
       "<tr>\n",
       "  <th>Df Model:</th>              <td>     1</td>      <th>                     </th>     <td> </td>   \n",
       "</tr>\n",
       "<tr>\n",
       "  <th>Covariance Type:</th>      <td>nonrobust</td>    <th>                     </th>     <td> </td>   \n",
       "</tr>\n",
       "</table>\n",
       "<table class=\"simpletable\">\n",
       "<tr>\n",
       "     <td></td>       <th>coef</th>     <th>std err</th>      <th>t</th>      <th>P>|t|</th>  <th>[0.025</th>    <th>0.975]</th>  \n",
       "</tr>\n",
       "<tr>\n",
       "  <th>const</th>  <td> -234.3646</td> <td>   41.376</td> <td>   -5.664</td> <td> 0.000</td> <td> -316.246</td> <td> -152.483</td>\n",
       "</tr>\n",
       "<tr>\n",
       "  <th>Height</th> <td>   64.0328</td> <td>    3.878</td> <td>   16.513</td> <td> 0.000</td> <td>   56.359</td> <td>   71.707</td>\n",
       "</tr>\n",
       "</table>\n",
       "<table class=\"simpletable\">\n",
       "<tr>\n",
       "  <th>Omnibus:</th>       <td>28.607</td> <th>  Durbin-Watson:     </th> <td>   0.260</td>\n",
       "</tr>\n",
       "<tr>\n",
       "  <th>Prob(Omnibus):</th> <td> 0.000</td> <th>  Jarque-Bera (JB):  </th> <td>  39.586</td>\n",
       "</tr>\n",
       "<tr>\n",
       "  <th>Skew:</th>          <td> 1.202</td> <th>  Prob(JB):          </th> <td>2.53e-09</td>\n",
       "</tr>\n",
       "<tr>\n",
       "  <th>Kurtosis:</th>      <td> 4.282</td> <th>  Cond. No.          </th> <td>    28.4</td>\n",
       "</tr>\n",
       "</table><br/><br/>Notes:<br/>[1] Standard Errors assume that the covariance matrix of the errors is correctly specified."
      ],
      "text/plain": [
       "<class 'statsmodels.iolib.summary.Summary'>\n",
       "\"\"\"\n",
       "                            OLS Regression Results                            \n",
       "==============================================================================\n",
       "Dep. Variable:                 Weight   R-squared:                       0.684\n",
       "Model:                            OLS   Adj. R-squared:                  0.681\n",
       "Method:                 Least Squares   F-statistic:                     272.7\n",
       "Date:                Sat, 02 Apr 2022   Prob (F-statistic):           2.61e-33\n",
       "Time:                        13:35:17   Log-Likelihood:                -843.20\n",
       "No. Observations:                 128   AIC:                             1690.\n",
       "Df Residuals:                     126   BIC:                             1696.\n",
       "Df Model:                           1                                         \n",
       "Covariance Type:            nonrobust                                         \n",
       "==============================================================================\n",
       "                 coef    std err          t      P>|t|      [0.025      0.975]\n",
       "------------------------------------------------------------------------------\n",
       "const       -234.3646     41.376     -5.664      0.000    -316.246    -152.483\n",
       "Height        64.0328      3.878     16.513      0.000      56.359      71.707\n",
       "==============================================================================\n",
       "Omnibus:                       28.607   Durbin-Watson:                   0.260\n",
       "Prob(Omnibus):                  0.000   Jarque-Bera (JB):               39.586\n",
       "Skew:                           1.202   Prob(JB):                     2.53e-09\n",
       "Kurtosis:                       4.282   Cond. No.                         28.4\n",
       "==============================================================================\n",
       "\n",
       "Notes:\n",
       "[1] Standard Errors assume that the covariance matrix of the errors is correctly specified.\n",
       "\"\"\""
      ]
     },
     "execution_count": 283,
     "metadata": {},
     "output_type": "execute_result"
    }
   ],
   "source": [
    "model.summary()"
   ]
  },
  {
   "cell_type": "code",
   "execution_count": 284,
   "id": "949a2f1f",
   "metadata": {},
   "outputs": [],
   "source": [
    "predicted_y=model.predict(test_x)"
   ]
  },
  {
   "cell_type": "code",
   "execution_count": 291,
   "id": "a8444878",
   "metadata": {},
   "outputs": [
    {
     "data": {
      "text/plain": [
       "<AxesSubplot:xlabel='Height', ylabel='Weight'>"
      ]
     },
     "execution_count": 291,
     "metadata": {},
     "output_type": "execute_result"
    },
    {
     "data": {
      "image/png": "[encoded data removed]",
      "text/plain": [
       "<Figure size 432x288 with 1 Axes>"
      ]
     },
     "metadata": {
      "needs_background": "light"
     },
     "output_type": "display_data"
    }
   ],
   "source": [
    "sns.scatterplot(x=x,y=y,color='red')\n",
    "sns.lineplot(x=x2,y=test_y)\n",
    "sns.lineplot(x=x2,y=predicted_y,color='green')"
   ]
  },
  {
   "cell_type": "code",
   "execution_count": 293,
   "id": "29ca7edb",
   "metadata": {},
   "outputs": [
    {
     "data": {
      "text/plain": [
       "<AxesSubplot:xlabel='Height', ylabel='Weight'>"
      ]
     },
     "execution_count": 293,
     "metadata": {},
     "output_type": "execute_result"
    },
    {
     "data": {
      "image/png": "[encoded data removed]",
      "text/plain": [
       "<Figure size 432x288 with 1 Axes>"
      ]
     },
     "metadata": {
      "needs_background": "light"
     },
     "output_type": "display_data"
    }
   ],
   "source": [
    "sns.scatterplot(x=x2,y=test_y)\n",
    "sns.lineplot(x=x2,y=predicted_y,color='green')"
   ]
  },
  {
   "cell_type": "code",
   "execution_count": null,
   "id": "d258cacf",
   "metadata": {},
   "outputs": [],
   "source": []
  }
 ],
 "metadata": {
  "kernelspec": {
   "display_name": "Python 3 (ipykernel)",
   "language": "python",
   "name": "python3"
  },
  "language_info": {
   "codemirror_mode": {
    "name": "ipython",
    "version": 3
   },
   "file_extension": ".py",
   "mimetype": "text/x-python",
   "name": "python",
   "nbconvert_exporter": "python",
   "pygments_lexer": "ipython3",
   "version": "3.9.7"
  }
 },
 "nbformat": 4,
 "nbformat_minor": 5
}
